{
  "nbformat": 4,
  "nbformat_minor": 0,
  "metadata": {
    "colab": {
      "name": "Untitled4.ipynb",
      "provenance": [],
      "authorship_tag": "ABX9TyNaBcKjOeUYpsYQm2QJwdKz",
      "include_colab_link": true
    },
    "kernelspec": {
      "name": "python3",
      "display_name": "Python 3"
    },
    "language_info": {
      "name": "python"
    },
    "widgets": {
      "application/vnd.jupyter.widget-state+json": {
        "45894d3ad3f1460da59ad4eee8eacc59": {
          "model_module": "@jupyter-widgets/controls",
          "model_name": "HBoxModel",
          "model_module_version": "1.5.0",
          "state": {
            "_view_name": "HBoxView",
            "_dom_classes": [],
            "_model_name": "HBoxModel",
            "_view_module": "@jupyter-widgets/controls",
            "_model_module_version": "1.5.0",
            "_view_count": null,
            "_view_module_version": "1.5.0",
            "box_style": "",
            "layout": "IPY_MODEL_8d5c458834a342be994fccfd62f86e92",
            "_model_module": "@jupyter-widgets/controls",
            "children": [
              "IPY_MODEL_8ee24b5412e148829c57e6dea8a0e7ad",
              "IPY_MODEL_30bb5b28038649f1b27900d43feba88e",
              "IPY_MODEL_63912b77398946259a85a9b2c3775c20"
            ]
          }
        },
        "8d5c458834a342be994fccfd62f86e92": {
          "model_module": "@jupyter-widgets/base",
          "model_name": "LayoutModel",
          "model_module_version": "1.2.0",
          "state": {
            "_view_name": "LayoutView",
            "grid_template_rows": null,
            "right": null,
            "justify_content": null,
            "_view_module": "@jupyter-widgets/base",
            "overflow": null,
            "_model_module_version": "1.2.0",
            "_view_count": null,
            "flex_flow": null,
            "width": null,
            "min_width": null,
            "border": null,
            "align_items": null,
            "bottom": null,
            "_model_module": "@jupyter-widgets/base",
            "top": null,
            "grid_column": null,
            "overflow_y": null,
            "overflow_x": null,
            "grid_auto_flow": null,
            "grid_area": null,
            "grid_template_columns": null,
            "flex": null,
            "_model_name": "LayoutModel",
            "justify_items": null,
            "grid_row": null,
            "max_height": null,
            "align_content": null,
            "visibility": null,
            "align_self": null,
            "height": null,
            "min_height": null,
            "padding": null,
            "grid_auto_rows": null,
            "grid_gap": null,
            "max_width": null,
            "order": null,
            "_view_module_version": "1.2.0",
            "grid_template_areas": null,
            "object_position": null,
            "object_fit": null,
            "grid_auto_columns": null,
            "margin": null,
            "display": null,
            "left": null
          }
        },
        "8ee24b5412e148829c57e6dea8a0e7ad": {
          "model_module": "@jupyter-widgets/controls",
          "model_name": "HTMLModel",
          "model_module_version": "1.5.0",
          "state": {
            "_view_name": "HTMLView",
            "style": "IPY_MODEL_2873135a618f47e6ba36e046cdb5fb23",
            "_dom_classes": [],
            "description": "",
            "_model_name": "HTMLModel",
            "placeholder": "​",
            "_view_module": "@jupyter-widgets/controls",
            "_model_module_version": "1.5.0",
            "value": "100%",
            "_view_count": null,
            "_view_module_version": "1.5.0",
            "description_tooltip": null,
            "_model_module": "@jupyter-widgets/controls",
            "layout": "IPY_MODEL_8ab9daf7475940b488caa571aa8ca2e7"
          }
        },
        "30bb5b28038649f1b27900d43feba88e": {
          "model_module": "@jupyter-widgets/controls",
          "model_name": "FloatProgressModel",
          "model_module_version": "1.5.0",
          "state": {
            "_view_name": "ProgressView",
            "style": "IPY_MODEL_25cb847fe5d84bbfb3d69ecd278ad27c",
            "_dom_classes": [],
            "description": "",
            "_model_name": "FloatProgressModel",
            "bar_style": "success",
            "max": 553433881,
            "_view_module": "@jupyter-widgets/controls",
            "_model_module_version": "1.5.0",
            "value": 553433881,
            "_view_count": null,
            "_view_module_version": "1.5.0",
            "orientation": "horizontal",
            "min": 0,
            "description_tooltip": null,
            "_model_module": "@jupyter-widgets/controls",
            "layout": "IPY_MODEL_cd148850a3994529801503769ca505c0"
          }
        },
        "63912b77398946259a85a9b2c3775c20": {
          "model_module": "@jupyter-widgets/controls",
          "model_name": "HTMLModel",
          "model_module_version": "1.5.0",
          "state": {
            "_view_name": "HTMLView",
            "style": "IPY_MODEL_428dd8bc48314aedba58861e082e8c08",
            "_dom_classes": [],
            "description": "",
            "_model_name": "HTMLModel",
            "placeholder": "​",
            "_view_module": "@jupyter-widgets/controls",
            "_model_module_version": "1.5.0",
            "value": " 528M/528M [00:06&lt;00:00, 83.7MB/s]",
            "_view_count": null,
            "_view_module_version": "1.5.0",
            "description_tooltip": null,
            "_model_module": "@jupyter-widgets/controls",
            "layout": "IPY_MODEL_73dd7b21cbd3401cb923175cb9192021"
          }
        },
        "2873135a618f47e6ba36e046cdb5fb23": {
          "model_module": "@jupyter-widgets/controls",
          "model_name": "DescriptionStyleModel",
          "model_module_version": "1.5.0",
          "state": {
            "_view_name": "StyleView",
            "_model_name": "DescriptionStyleModel",
            "description_width": "",
            "_view_module": "@jupyter-widgets/base",
            "_model_module_version": "1.5.0",
            "_view_count": null,
            "_view_module_version": "1.2.0",
            "_model_module": "@jupyter-widgets/controls"
          }
        },
        "8ab9daf7475940b488caa571aa8ca2e7": {
          "model_module": "@jupyter-widgets/base",
          "model_name": "LayoutModel",
          "model_module_version": "1.2.0",
          "state": {
            "_view_name": "LayoutView",
            "grid_template_rows": null,
            "right": null,
            "justify_content": null,
            "_view_module": "@jupyter-widgets/base",
            "overflow": null,
            "_model_module_version": "1.2.0",
            "_view_count": null,
            "flex_flow": null,
            "width": null,
            "min_width": null,
            "border": null,
            "align_items": null,
            "bottom": null,
            "_model_module": "@jupyter-widgets/base",
            "top": null,
            "grid_column": null,
            "overflow_y": null,
            "overflow_x": null,
            "grid_auto_flow": null,
            "grid_area": null,
            "grid_template_columns": null,
            "flex": null,
            "_model_name": "LayoutModel",
            "justify_items": null,
            "grid_row": null,
            "max_height": null,
            "align_content": null,
            "visibility": null,
            "align_self": null,
            "height": null,
            "min_height": null,
            "padding": null,
            "grid_auto_rows": null,
            "grid_gap": null,
            "max_width": null,
            "order": null,
            "_view_module_version": "1.2.0",
            "grid_template_areas": null,
            "object_position": null,
            "object_fit": null,
            "grid_auto_columns": null,
            "margin": null,
            "display": null,
            "left": null
          }
        },
        "25cb847fe5d84bbfb3d69ecd278ad27c": {
          "model_module": "@jupyter-widgets/controls",
          "model_name": "ProgressStyleModel",
          "model_module_version": "1.5.0",
          "state": {
            "_view_name": "StyleView",
            "_model_name": "ProgressStyleModel",
            "description_width": "",
            "_view_module": "@jupyter-widgets/base",
            "_model_module_version": "1.5.0",
            "_view_count": null,
            "_view_module_version": "1.2.0",
            "bar_color": null,
            "_model_module": "@jupyter-widgets/controls"
          }
        },
        "cd148850a3994529801503769ca505c0": {
          "model_module": "@jupyter-widgets/base",
          "model_name": "LayoutModel",
          "model_module_version": "1.2.0",
          "state": {
            "_view_name": "LayoutView",
            "grid_template_rows": null,
            "right": null,
            "justify_content": null,
            "_view_module": "@jupyter-widgets/base",
            "overflow": null,
            "_model_module_version": "1.2.0",
            "_view_count": null,
            "flex_flow": null,
            "width": null,
            "min_width": null,
            "border": null,
            "align_items": null,
            "bottom": null,
            "_model_module": "@jupyter-widgets/base",
            "top": null,
            "grid_column": null,
            "overflow_y": null,
            "overflow_x": null,
            "grid_auto_flow": null,
            "grid_area": null,
            "grid_template_columns": null,
            "flex": null,
            "_model_name": "LayoutModel",
            "justify_items": null,
            "grid_row": null,
            "max_height": null,
            "align_content": null,
            "visibility": null,
            "align_self": null,
            "height": null,
            "min_height": null,
            "padding": null,
            "grid_auto_rows": null,
            "grid_gap": null,
            "max_width": null,
            "order": null,
            "_view_module_version": "1.2.0",
            "grid_template_areas": null,
            "object_position": null,
            "object_fit": null,
            "grid_auto_columns": null,
            "margin": null,
            "display": null,
            "left": null
          }
        },
        "428dd8bc48314aedba58861e082e8c08": {
          "model_module": "@jupyter-widgets/controls",
          "model_name": "DescriptionStyleModel",
          "model_module_version": "1.5.0",
          "state": {
            "_view_name": "StyleView",
            "_model_name": "DescriptionStyleModel",
            "description_width": "",
            "_view_module": "@jupyter-widgets/base",
            "_model_module_version": "1.5.0",
            "_view_count": null,
            "_view_module_version": "1.2.0",
            "_model_module": "@jupyter-widgets/controls"
          }
        },
        "73dd7b21cbd3401cb923175cb9192021": {
          "model_module": "@jupyter-widgets/base",
          "model_name": "LayoutModel",
          "model_module_version": "1.2.0",
          "state": {
            "_view_name": "LayoutView",
            "grid_template_rows": null,
            "right": null,
            "justify_content": null,
            "_view_module": "@jupyter-widgets/base",
            "overflow": null,
            "_model_module_version": "1.2.0",
            "_view_count": null,
            "flex_flow": null,
            "width": null,
            "min_width": null,
            "border": null,
            "align_items": null,
            "bottom": null,
            "_model_module": "@jupyter-widgets/base",
            "top": null,
            "grid_column": null,
            "overflow_y": null,
            "overflow_x": null,
            "grid_auto_flow": null,
            "grid_area": null,
            "grid_template_columns": null,
            "flex": null,
            "_model_name": "LayoutModel",
            "justify_items": null,
            "grid_row": null,
            "max_height": null,
            "align_content": null,
            "visibility": null,
            "align_self": null,
            "height": null,
            "min_height": null,
            "padding": null,
            "grid_auto_rows": null,
            "grid_gap": null,
            "max_width": null,
            "order": null,
            "_view_module_version": "1.2.0",
            "grid_template_areas": null,
            "object_position": null,
            "object_fit": null,
            "grid_auto_columns": null,
            "margin": null,
            "display": null,
            "left": null
          }
        }
      }
    }
  },
  "cells": [
    {
      "cell_type": "markdown",
      "metadata": {
        "id": "view-in-github",
        "colab_type": "text"
      },
      "source": [
        "<a href=\"https://colab.research.google.com/github/kplam3003/Phuoc-Lam/blob/main/transferred%20model.ipynb\" target=\"_parent\"><img src=\"https://colab.research.google.com/assets/colab-badge.svg\" alt=\"Open In Colab\"/></a>"
      ]
    },
    {
      "cell_type": "code",
      "execution_count": null,
      "metadata": {
        "id": "Favmjqki-79S"
      },
      "outputs": [],
      "source": [
        "import os\n",
        "import zipfile\n",
        "import urllib.request\n",
        "import os.path as osp\n",
        "import glob\n",
        "import random\n",
        "import numpy as np\n",
        "from PIL import Image\n",
        "import matplotlib.pyplot as plt\n",
        "%matplotlib inline\n",
        "import json\n",
        "import torch\n",
        "import torch.nn as nn\n",
        "import torch.optim as optim\n",
        "import torch.utils.data as data\n",
        "import torchvision\n",
        "from torchvision import models, transforms\n",
        "from tqdm import tqdm"
      ]
    },
    {
      "cell_type": "code",
      "source": [
        "url = 'http://download.pytorch.org/tutorial/hymenoptera_data.zip'\n",
        "save_path = os.path.join(\"/content/sample_data\", 'hymenoptera_data.zip')\n",
        "if not os.path.exists(save_path):\n",
        "  urllib.request.urlretrieve(url,save_path)\n",
        "  zip = zipfile.ZipFile(save_path)\n",
        "  zip.extractall(\"/content/sample_data\")\n",
        "  zip.close()\n",
        "  os.remove(save_path )"
      ],
      "metadata": {
        "id": "ejlHrMsX_jO7"
      },
      "execution_count": null,
      "outputs": []
    },
    {
      "cell_type": "code",
      "source": [
        "!ls /content/sample_data/hymenoptera_data/train/bees | wc -l"
      ],
      "metadata": {
        "colab": {
          "base_uri": "https://localhost:8080/"
        },
        "id": "40CEmKXCBzZO",
        "outputId": "be68aefa-e959-4a29-968d-537052032f9d"
      },
      "execution_count": null,
      "outputs": [
        {
          "output_type": "stream",
          "name": "stdout",
          "text": [
            "121\n"
          ]
        }
      ]
    },
    {
      "cell_type": "code",
      "source": [
        "torch.manual_seed(1234)\n",
        "np.random.seed(123)\n",
        "random.seed(1234)"
      ],
      "metadata": {
        "id": "aQAa5bJREcZH"
      },
      "execution_count": null,
      "outputs": []
    },
    {
      "cell_type": "code",
      "source": [
        "class ImageTransform():\n",
        "  def __init__(self,resize,mean,std):\n",
        "    self.data_transform = {'train': transforms.Compose([\n",
        "        transforms.RandomResizedCrop(resize, scale=(0.5,1)),\n",
        "        transforms.RandomHorizontalFlip(),\n",
        "        transforms.ToTensor(),\n",
        "        transforms.Normalize(mean,std)]),\n",
        "        'val': transforms.Compose([\n",
        "              transforms.Resize(resize),\n",
        "              transforms.CenterCrop(resize),\n",
        "              transforms.ToTensor(),\n",
        "              transforms.Normalize(mean,std)])}\n",
        "  def __call__(self,img,phase = 'train'):\n",
        "    return self.data_transform[phase](img) "
      ],
      "metadata": {
        "id": "JZvfZNxTEyyz"
      },
      "execution_count": null,
      "outputs": []
    },
    {
      "cell_type": "code",
      "source": [
        "img_file_path = '/content/sample_data/dog.jpg'\n",
        "img = Image.open(img_file_path)\n",
        "plt.imshow(img)\n",
        "plt.show()"
      ],
      "metadata": {
        "colab": {
          "base_uri": "https://localhost:8080/",
          "height": 269
        },
        "id": "YR0_OVhKHi2n",
        "outputId": "fd2b4c72-d135-45fe-e628-edc612d8433f"
      },
      "execution_count": null,
      "outputs": [
        {
          "output_type": "display_data",
          "data": {
            "image/png": "[encoded data removed]",
            "text/plain": [
              "<Figure size 432x288 with 1 Axes>"
            ]
          },
          "metadata": {
            "needs_background": "light"
          }
        }
      ]
    },
    {
      "cell_type": "code",
      "source": [
        "resize = 224\n",
        "mean = (0.485, 0.456, 0.406)\n",
        "std = (0.229,0.224,0.225)\n",
        "transform = ImageTransform(resize,mean,std)\n",
        "img_transformed = transform(img, phase = 'train')"
      ],
      "metadata": {
        "id": "Uy7C1Wg4IAQl"
      },
      "execution_count": null,
      "outputs": []
    },
    {
      "cell_type": "code",
      "source": [
        "img_transformed = img_transformed.numpy().transpose(1,2,0)\n",
        "img_transformed = np.clip(img_transformed, 0 ,1)\n",
        "img_transformed.shape"
      ],
      "metadata": {
        "colab": {
          "base_uri": "https://localhost:8080/"
        },
        "id": "LRj4X4ajIsYl",
        "outputId": "58ec999c-410d-4c5a-a089-50188b656e4b"
      },
      "execution_count": null,
      "outputs": [
        {
          "output_type": "execute_result",
          "data": {
            "text/plain": [
              "(224, 224, 3)"
            ]
          },
          "metadata": {},
          "execution_count": 76
        }
      ]
    },
    {
      "cell_type": "code",
      "source": [
        "plt.imshow(img_transformed)\n",
        "plt.show()"
      ],
      "metadata": {
        "colab": {
          "base_uri": "https://localhost:8080/",
          "height": 269
        },
        "id": "4mxFy-u4JJtK",
        "outputId": "59e59239-c8de-4950-c2f9-c26444d6d351"
      },
      "execution_count": null,
      "outputs": [
        {
          "output_type": "display_data",
          "data": {
            "image/png": "[encoded data removed]",
            "text/plain": [
              "<Figure size 432x288 with 1 Axes>"
            ]
          },
          "metadata": {
            "needs_background": "light"
          }
        }
      ]
    },
    {
      "cell_type": "code",
      "source": [
        "def make_datapath_list(phase = 'train'):\n",
        "  rootpath = '/content/sample_data/hymenoptera_data/'\n",
        "  target_path = osp.join(rootpath+phase+\"/**/*.jpg\")\n",
        "  path_list = []\n",
        "  for path in glob.glob(target_path):\n",
        "    path_list.append(path)\n",
        "  return path_list"
      ],
      "metadata": {
        "id": "Oz121B3DLcdr"
      },
      "execution_count": null,
      "outputs": []
    },
    {
      "cell_type": "code",
      "source": [
        "path_list = make_datapath_list('train')\n",
        "path_list"
      ],
      "metadata": {
        "colab": {
          "base_uri": "https://localhost:8080/"
        },
        "id": "pgqhhxQPL97u",
        "outputId": "aefea1fc-1598-47da-cacb-8215f30a6c16"
      },
      "execution_count": null,
      "outputs": [
        {
          "output_type": "execute_result",
          "data": {
            "text/plain": [
              "['/content/sample_data/hymenoptera_data/train/bees/2037437624_2d7bce461f.jpg',\n",
              " '/content/sample_data/hymenoptera_data/train/bees/478701318_bbd5e557b8.jpg',\n",
              " '/content/sample_data/hymenoptera_data/train/bees/2477324698_3d4b1b1cab.jpg',\n",
              " '/content/sample_data/hymenoptera_data/train/bees/2495722465_879acf9d85.jpg',\n",
              " '/content/sample_data/hymenoptera_data/train/bees/2601176055_8464e6aa71.jpg',\n",
              " '/content/sample_data/hymenoptera_data/train/bees/95238259_98470c5b10.jpg',\n",
              " '/content/sample_data/hymenoptera_data/train/bees/509247772_2db2d01374.jpg',\n",
              " '/content/sample_data/hymenoptera_data/train/bees/3090975720_71f12e6de4.jpg',\n",
              " '/content/sample_data/hymenoptera_data/train/bees/2861002136_52c7c6f708.jpg',\n",
              " '/content/sample_data/hymenoptera_data/train/bees/3030772428_8578335616.jpg',\n",
              " '/content/sample_data/hymenoptera_data/train/bees/2634617358_f32fd16bea.jpg',\n",
              " '/content/sample_data/hymenoptera_data/train/bees/2625499656_e3415e374d.jpg',\n",
              " '/content/sample_data/hymenoptera_data/train/bees/2765347790_da6cf6cb40.jpg',\n",
              " '/content/sample_data/hymenoptera_data/train/bees/2493379287_4100e1dacc.jpg',\n",
              " '/content/sample_data/hymenoptera_data/train/bees/760526046_547e8b381f.jpg',\n",
              " '/content/sample_data/hymenoptera_data/train/bees/2486729079_62df0920be.jpg',\n",
              " '/content/sample_data/hymenoptera_data/train/bees/1093831624_fb5fbe2308.jpg',\n",
              " '/content/sample_data/hymenoptera_data/train/bees/421515404_e87569fd8b.jpg',\n",
              " '/content/sample_data/hymenoptera_data/train/bees/132511197_0b86ad0fff.jpg',\n",
              " '/content/sample_data/hymenoptera_data/train/bees/2486746709_c43cec0e42.jpg',\n",
              " '/content/sample_data/hymenoptera_data/train/bees/3006264892_30e9cced70.jpg',\n",
              " '/content/sample_data/hymenoptera_data/train/bees/452462695_40a4e5b559.jpg',\n",
              " '/content/sample_data/hymenoptera_data/train/bees/17209602_fe5a5a746f.jpg',\n",
              " '/content/sample_data/hymenoptera_data/train/bees/359928878_b3b418c728.jpg',\n",
              " '/content/sample_data/hymenoptera_data/train/bees/2610838525_fe8e3cae47.jpg',\n",
              " '/content/sample_data/hymenoptera_data/train/bees/3079610310_ac2d0ae7bc.jpg',\n",
              " '/content/sample_data/hymenoptera_data/train/bees/1807583459_4fe92b3133.jpg',\n",
              " '/content/sample_data/hymenoptera_data/train/bees/2781170484_5d61835d63.jpg',\n",
              " '/content/sample_data/hymenoptera_data/train/bees/2610833167_79bf0bcae5.jpg',\n",
              " '/content/sample_data/hymenoptera_data/train/bees/1097045929_1753d1c765.jpg',\n",
              " '/content/sample_data/hymenoptera_data/train/bees/586041248_3032e277a9.jpg',\n",
              " '/content/sample_data/hymenoptera_data/train/bees/507288830_f46e8d4cb2.jpg',\n",
              " '/content/sample_data/hymenoptera_data/train/bees/1691282715_0addfdf5e8.jpg',\n",
              " '/content/sample_data/hymenoptera_data/train/bees/2822388965_f6dca2a275.jpg',\n",
              " '/content/sample_data/hymenoptera_data/train/bees/873076652_eb098dab2d.jpg',\n",
              " '/content/sample_data/hymenoptera_data/train/bees/2330918208_8074770c20.jpg',\n",
              " '/content/sample_data/hymenoptera_data/train/bees/2405441001_b06c36fa72.jpg',\n",
              " '/content/sample_data/hymenoptera_data/train/bees/2704348794_eb5d5178c2.jpg',\n",
              " '/content/sample_data/hymenoptera_data/train/bees/174142798_e5ad6d76e0.jpg',\n",
              " '/content/sample_data/hymenoptera_data/train/bees/21399619_3e61e5bb6f.jpg',\n",
              " '/content/sample_data/hymenoptera_data/train/bees/2792000093_e8ae0718cf.jpg',\n",
              " '/content/sample_data/hymenoptera_data/train/bees/2384149906_2cd8b0b699.jpg',\n",
              " '/content/sample_data/hymenoptera_data/train/bees/2345177635_caf07159b3.jpg',\n",
              " '/content/sample_data/hymenoptera_data/train/bees/205835650_e6f2614bee.jpg',\n",
              " '/content/sample_data/hymenoptera_data/train/bees/2580598377_a4caecdb54.jpg',\n",
              " '/content/sample_data/hymenoptera_data/train/bees/354167719_22dca13752.jpg',\n",
              " '/content/sample_data/hymenoptera_data/train/bees/2728759455_ce9bb8cd7a.jpg',\n",
              " '/content/sample_data/hymenoptera_data/train/bees/2445215254_51698ff797.jpg',\n",
              " '/content/sample_data/hymenoptera_data/train/bees/2551813042_8a070aeb2b.jpg',\n",
              " '/content/sample_data/hymenoptera_data/train/bees/774440991_63a4aa0cbe.jpg',\n",
              " '/content/sample_data/hymenoptera_data/train/bees/85112639_6e860b0469.jpg',\n",
              " '/content/sample_data/hymenoptera_data/train/bees/513545352_fd3e7c7c5d.jpg',\n",
              " '/content/sample_data/hymenoptera_data/train/bees/2364597044_3c3e3fc391.jpg',\n",
              " '/content/sample_data/hymenoptera_data/train/bees/446296270_d9e8b93ecf.jpg',\n",
              " '/content/sample_data/hymenoptera_data/train/bees/129236073_0985e91c7d.jpg',\n",
              " '/content/sample_data/hymenoptera_data/train/bees/444532809_9e931e2279.jpg',\n",
              " '/content/sample_data/hymenoptera_data/train/bees/2470492904_837e97800d.jpg',\n",
              " '/content/sample_data/hymenoptera_data/train/bees/16838648_415acd9e3f.jpg',\n",
              " '/content/sample_data/hymenoptera_data/train/bees/196658222_3fffd79c67.jpg',\n",
              " '/content/sample_data/hymenoptera_data/train/bees/2617161745_fa3ebe85b4.jpg',\n",
              " '/content/sample_data/hymenoptera_data/train/bees/2538361678_9da84b77e3.jpg',\n",
              " '/content/sample_data/hymenoptera_data/train/bees/2031225713_50ed499635.jpg',\n",
              " '/content/sample_data/hymenoptera_data/train/bees/154600396_53e1252e52.jpg',\n",
              " '/content/sample_data/hymenoptera_data/train/bees/2321139806_d73d899e66.jpg',\n",
              " '/content/sample_data/hymenoptera_data/train/bees/266644509_d30bb16a1b.jpg',\n",
              " '/content/sample_data/hymenoptera_data/train/bees/2710368626_cb42882dc8.jpg',\n",
              " '/content/sample_data/hymenoptera_data/train/bees/208702903_42fb4d9748.jpg',\n",
              " '/content/sample_data/hymenoptera_data/train/bees/457457145_5f86eb7e9c.jpg',\n",
              " '/content/sample_data/hymenoptera_data/train/bees/2227611847_ec72d40403.jpg',\n",
              " '/content/sample_data/hymenoptera_data/train/bees/3044402684_3853071a87.jpg',\n",
              " '/content/sample_data/hymenoptera_data/train/bees/2722592222_258d473e17.jpg',\n",
              " '/content/sample_data/hymenoptera_data/train/bees/39747887_42df2855ee.jpg',\n",
              " '/content/sample_data/hymenoptera_data/train/bees/196430254_46bd129ae7.jpg',\n",
              " '/content/sample_data/hymenoptera_data/train/bees/150013791_969d9a968b.jpg',\n",
              " '/content/sample_data/hymenoptera_data/train/bees/2707440199_cd170bd512.jpg',\n",
              " '/content/sample_data/hymenoptera_data/train/bees/2962405283_22718d9617.jpg',\n",
              " '/content/sample_data/hymenoptera_data/train/bees/1799726602_8580867f71.jpg',\n",
              " '/content/sample_data/hymenoptera_data/train/bees/537309131_532bfa59ea.jpg',\n",
              " '/content/sample_data/hymenoptera_data/train/bees/465133211_80e0c27f60.jpg',\n",
              " '/content/sample_data/hymenoptera_data/train/bees/90179376_abc234e5f4.jpg',\n",
              " '/content/sample_data/hymenoptera_data/train/bees/473618094_8ffdcab215.jpg',\n",
              " '/content/sample_data/hymenoptera_data/train/bees/1232245714_f862fbe385.jpg',\n",
              " '/content/sample_data/hymenoptera_data/train/bees/92663402_37f379e57a.jpg',\n",
              " '/content/sample_data/hymenoptera_data/train/bees/2397446847_04ef3cd3e1.jpg',\n",
              " '/content/sample_data/hymenoptera_data/train/bees/2467959963_a7831e9ff0.jpg',\n",
              " '/content/sample_data/hymenoptera_data/train/bees/1508176360_2972117c9d.jpg',\n",
              " '/content/sample_data/hymenoptera_data/train/bees/2756397428_1d82a08807.jpg',\n",
              " '/content/sample_data/hymenoptera_data/train/bees/2358061370_9daabbd9ac.jpg',\n",
              " '/content/sample_data/hymenoptera_data/train/bees/2801728106_833798c909.jpg',\n",
              " '/content/sample_data/hymenoptera_data/train/bees/1092977343_cb42b38d62.jpg',\n",
              " '/content/sample_data/hymenoptera_data/train/bees/132826773_dbbcb117b9.jpg',\n",
              " '/content/sample_data/hymenoptera_data/train/bees/198508668_97d818b6c4.jpg',\n",
              " '/content/sample_data/hymenoptera_data/train/bees/2959730355_416a18c63c.jpg',\n",
              " '/content/sample_data/hymenoptera_data/train/bees/36900412_92b81831ad.jpg',\n",
              " '/content/sample_data/hymenoptera_data/train/bees/2638074627_6b3ae746a0.jpg',\n",
              " '/content/sample_data/hymenoptera_data/train/bees/1295655112_7813f37d21.jpg',\n",
              " '/content/sample_data/hymenoptera_data/train/bees/760568592_45a52c847f.jpg',\n",
              " '/content/sample_data/hymenoptera_data/train/bees/969455125_58c797ef17.jpg',\n",
              " '/content/sample_data/hymenoptera_data/train/bees/98391118_bdb1e80cce.jpg',\n",
              " '/content/sample_data/hymenoptera_data/train/bees/2651621464_a2fa8722eb.jpg',\n",
              " '/content/sample_data/hymenoptera_data/train/bees/39672681_1302d204d1.jpg',\n",
              " '/content/sample_data/hymenoptera_data/train/bees/2908916142_a7ac8b57a8.jpg',\n",
              " '/content/sample_data/hymenoptera_data/train/bees/2477349551_e75c97cf4d.jpg',\n",
              " '/content/sample_data/hymenoptera_data/train/bees/2645107662_b73a8595cc.jpg',\n",
              " '/content/sample_data/hymenoptera_data/train/bees/365759866_b15700c59b.jpg',\n",
              " '/content/sample_data/hymenoptera_data/train/bees/2452236943_255bfd9e58.jpg',\n",
              " '/content/sample_data/hymenoptera_data/train/bees/279113587_b4843db199.jpg',\n",
              " '/content/sample_data/hymenoptera_data/train/bees/2053200300_8911ef438a.jpg',\n",
              " '/content/sample_data/hymenoptera_data/train/bees/2652877533_a564830cbf.jpg',\n",
              " '/content/sample_data/hymenoptera_data/train/bees/469333327_358ba8fe8a.jpg',\n",
              " '/content/sample_data/hymenoptera_data/train/bees/2683605182_9d2a0c66cf.jpg',\n",
              " '/content/sample_data/hymenoptera_data/train/bees/342758693_c56b89b6b6.jpg',\n",
              " '/content/sample_data/hymenoptera_data/train/bees/472288710_2abee16fa0.jpg',\n",
              " '/content/sample_data/hymenoptera_data/train/bees/3100226504_c0d4f1e3f1.jpg',\n",
              " '/content/sample_data/hymenoptera_data/train/bees/522104315_5d3cb2758e.jpg',\n",
              " '/content/sample_data/hymenoptera_data/train/bees/3074585407_9854eb3153.jpg',\n",
              " '/content/sample_data/hymenoptera_data/train/bees/452462677_7be43af8ff.jpg',\n",
              " '/content/sample_data/hymenoptera_data/train/bees/2528444139_fa728b0f5b.jpg',\n",
              " '/content/sample_data/hymenoptera_data/train/bees/476347960_52edd72b06.jpg',\n",
              " '/content/sample_data/hymenoptera_data/train/bees/29494643_e3410f0d37.jpg',\n",
              " '/content/sample_data/hymenoptera_data/train/bees/3030189811_01d095b793.jpg',\n",
              " '/content/sample_data/hymenoptera_data/train/ants/132478121_2a430adea2.jpg',\n",
              " '/content/sample_data/hymenoptera_data/train/ants/Ant_1.jpg',\n",
              " '/content/sample_data/hymenoptera_data/train/ants/2292213964_ca51ce4bef.jpg',\n",
              " '/content/sample_data/hymenoptera_data/train/ants/1095476100_3906d8afde.jpg',\n",
              " '/content/sample_data/hymenoptera_data/train/ants/148715752_302c84f5a4.jpg',\n",
              " '/content/sample_data/hymenoptera_data/train/ants/1660097129_384bf54490.jpg',\n",
              " '/content/sample_data/hymenoptera_data/train/ants/1693954099_46d4c20605.jpg',\n",
              " '/content/sample_data/hymenoptera_data/train/ants/1269756697_0bce92cdab.jpg',\n",
              " '/content/sample_data/hymenoptera_data/train/ants/67270775_e9fdf77e9d.jpg',\n",
              " '/content/sample_data/hymenoptera_data/train/ants/6743948_2b8c096dda.jpg',\n",
              " '/content/sample_data/hymenoptera_data/train/ants/5650366_e22b7e1065.jpg',\n",
              " '/content/sample_data/hymenoptera_data/train/ants/24335309_c5ea483bb8.jpg',\n",
              " '/content/sample_data/hymenoptera_data/train/ants/9715481_b3cb4114ff.jpg',\n",
              " '/content/sample_data/hymenoptera_data/train/ants/957233405_25c1d1187b.jpg',\n",
              " '/content/sample_data/hymenoptera_data/train/ants/1225872729_6f0856588f.jpg',\n",
              " '/content/sample_data/hymenoptera_data/train/ants/82852639_52b7f7f5e3.jpg',\n",
              " '/content/sample_data/hymenoptera_data/train/ants/2019439677_2db655d361.jpg',\n",
              " '/content/sample_data/hymenoptera_data/train/ants/258217966_d9d90d18d3.jpg',\n",
              " '/content/sample_data/hymenoptera_data/train/ants/swiss-army-ant.jpg',\n",
              " '/content/sample_data/hymenoptera_data/train/ants/543417860_b14237f569.jpg',\n",
              " '/content/sample_data/hymenoptera_data/train/ants/342438950_a3da61deab.jpg',\n",
              " '/content/sample_data/hymenoptera_data/train/ants/408393566_b5b694119b.jpg',\n",
              " '/content/sample_data/hymenoptera_data/train/ants/45472593_bfd624f8dc.jpg',\n",
              " '/content/sample_data/hymenoptera_data/train/ants/662541407_ff8db781e7.jpg',\n",
              " '/content/sample_data/hymenoptera_data/train/ants/Nepenthes_rafflesiana_ant.jpg',\n",
              " '/content/sample_data/hymenoptera_data/train/ants/374435068_7eee412ec4.jpg',\n",
              " '/content/sample_data/hymenoptera_data/train/ants/512164029_c0a66b8498.jpg',\n",
              " '/content/sample_data/hymenoptera_data/train/ants/2265824718_2c96f485da.jpg',\n",
              " '/content/sample_data/hymenoptera_data/train/ants/459694881_ac657d3187.jpg',\n",
              " '/content/sample_data/hymenoptera_data/train/ants/175998972.jpg',\n",
              " '/content/sample_data/hymenoptera_data/train/ants/886401651_f878e888cd.jpg',\n",
              " '/content/sample_data/hymenoptera_data/train/ants/403746349_71384f5b58.jpg',\n",
              " '/content/sample_data/hymenoptera_data/train/ants/1262877379_64fcada201.jpg',\n",
              " '/content/sample_data/hymenoptera_data/train/ants/1368913450_e146e2fb6d.jpg',\n",
              " '/content/sample_data/hymenoptera_data/train/ants/1360291657_dc248c5eea.jpg',\n",
              " '/content/sample_data/hymenoptera_data/train/ants/318052216_84dff3f98a.jpg',\n",
              " '/content/sample_data/hymenoptera_data/train/ants/531979952_bde12b3bc0.jpg',\n",
              " '/content/sample_data/hymenoptera_data/train/ants/522163566_fec115ca66.jpg',\n",
              " '/content/sample_data/hymenoptera_data/train/ants/470127037_513711fd21.jpg',\n",
              " '/content/sample_data/hymenoptera_data/train/ants/795000156_a9900a4a71.jpg',\n",
              " '/content/sample_data/hymenoptera_data/train/ants/822537660_caf4ba5514.jpg',\n",
              " '/content/sample_data/hymenoptera_data/train/ants/392382602_1b7bed32fa.jpg',\n",
              " '/content/sample_data/hymenoptera_data/train/ants/6240329_72c01e663e.jpg',\n",
              " '/content/sample_data/hymenoptera_data/train/ants/1030023514_aad5c608f9.jpg',\n",
              " '/content/sample_data/hymenoptera_data/train/ants/512863248_43c8ce579b.jpg',\n",
              " '/content/sample_data/hymenoptera_data/train/ants/649026570_e58656104b.jpg',\n",
              " '/content/sample_data/hymenoptera_data/train/ants/28847243_e79fe052cd.jpg',\n",
              " '/content/sample_data/hymenoptera_data/train/ants/1924473702_daa9aacdbe.jpg',\n",
              " '/content/sample_data/hymenoptera_data/train/ants/226951206_d6bf946504.jpg',\n",
              " '/content/sample_data/hymenoptera_data/train/ants/1808777855_2a895621d7.jpg',\n",
              " '/content/sample_data/hymenoptera_data/train/ants/150801003_3390b73135.jpg',\n",
              " '/content/sample_data/hymenoptera_data/train/ants/1286984635_5119e80de1.jpg',\n",
              " '/content/sample_data/hymenoptera_data/train/ants/255434217_1b2b3fe0a4.jpg',\n",
              " '/content/sample_data/hymenoptera_data/train/ants/20935278_9190345f6b.jpg',\n",
              " '/content/sample_data/hymenoptera_data/train/ants/535522953_308353a07c.jpg',\n",
              " '/content/sample_data/hymenoptera_data/train/ants/275429470_b2d7d9290b.jpg',\n",
              " '/content/sample_data/hymenoptera_data/train/ants/178538489_bec7649292.jpg',\n",
              " '/content/sample_data/hymenoptera_data/train/ants/ant photos.jpg',\n",
              " '/content/sample_data/hymenoptera_data/train/ants/450057712_771b3bfc91.jpg',\n",
              " '/content/sample_data/hymenoptera_data/train/ants/560966032_988f4d7bc4.jpg',\n",
              " '/content/sample_data/hymenoptera_data/train/ants/termite-vs-ant.jpg',\n",
              " '/content/sample_data/hymenoptera_data/train/ants/36439863_0bec9f554f.jpg',\n",
              " '/content/sample_data/hymenoptera_data/train/ants/475961153_b8c13fd405.jpg',\n",
              " '/content/sample_data/hymenoptera_data/train/ants/49375974_e28ba6f17e.jpg',\n",
              " '/content/sample_data/hymenoptera_data/train/ants/245647475_9523dfd13e.jpg',\n",
              " '/content/sample_data/hymenoptera_data/train/ants/196757565_326437f5fe.jpg',\n",
              " '/content/sample_data/hymenoptera_data/train/ants/339670531_94b75ae47a.jpg',\n",
              " '/content/sample_data/hymenoptera_data/train/ants/707895295_009cf23188.jpg',\n",
              " '/content/sample_data/hymenoptera_data/train/ants/1917341202_d00a7f9af5.jpg',\n",
              " '/content/sample_data/hymenoptera_data/train/ants/116570827_e9c126745d.jpg',\n",
              " '/content/sample_data/hymenoptera_data/train/ants/201790779_527f4c0168.jpg',\n",
              " '/content/sample_data/hymenoptera_data/train/ants/150801171_cd86f17ed8.jpg',\n",
              " '/content/sample_data/hymenoptera_data/train/ants/149244013_c529578289.jpg',\n",
              " '/content/sample_data/hymenoptera_data/train/ants/506249802_207cd979b4.jpg',\n",
              " '/content/sample_data/hymenoptera_data/train/ants/2278278459_6b99605e50.jpg',\n",
              " '/content/sample_data/hymenoptera_data/train/ants/334167043_cbd1adaeb9.jpg',\n",
              " '/content/sample_data/hymenoptera_data/train/ants/938946700_ca1c669085.jpg',\n",
              " '/content/sample_data/hymenoptera_data/train/ants/474806473_ca6caab245.jpg',\n",
              " '/content/sample_data/hymenoptera_data/train/ants/1804095607_0341701e1c.jpg',\n",
              " '/content/sample_data/hymenoptera_data/train/ants/522415432_2218f34bf8.jpg',\n",
              " '/content/sample_data/hymenoptera_data/train/ants/224655713_3956f7d39a.jpg',\n",
              " '/content/sample_data/hymenoptera_data/train/ants/1489674356_09d48dde0a.jpg',\n",
              " '/content/sample_data/hymenoptera_data/train/ants/386190770_672743c9a7.jpg',\n",
              " '/content/sample_data/hymenoptera_data/train/ants/484293231_e53cfc0c89.jpg',\n",
              " '/content/sample_data/hymenoptera_data/train/ants/540889389_48bb588b21.jpg',\n",
              " '/content/sample_data/hymenoptera_data/train/ants/892108839_f1aad4ca46.jpg',\n",
              " '/content/sample_data/hymenoptera_data/train/ants/154124431_65460430f2.jpg',\n",
              " '/content/sample_data/hymenoptera_data/train/ants/207947948_3ab29d7207.jpg',\n",
              " '/content/sample_data/hymenoptera_data/train/ants/506249836_717b73f540.jpg',\n",
              " '/content/sample_data/hymenoptera_data/train/ants/533848102_70a85ad6dd.jpg',\n",
              " '/content/sample_data/hymenoptera_data/train/ants/460874319_0a45ab4d05.jpg',\n",
              " '/content/sample_data/hymenoptera_data/train/ants/2288450226_a6e96e8fdf.jpg',\n",
              " '/content/sample_data/hymenoptera_data/train/ants/2288481644_83ff7e4572.jpg',\n",
              " '/content/sample_data/hymenoptera_data/train/ants/army-ants-red-picture.jpg',\n",
              " '/content/sample_data/hymenoptera_data/train/ants/69639610_95e0de17aa.jpg',\n",
              " '/content/sample_data/hymenoptera_data/train/ants/162603798_40b51f1654.jpg',\n",
              " '/content/sample_data/hymenoptera_data/train/ants/841049277_b28e58ad05.jpg',\n",
              " '/content/sample_data/hymenoptera_data/train/ants/460372577_f2f6a8c9fc.jpg',\n",
              " '/content/sample_data/hymenoptera_data/train/ants/201558278_fe4caecc76.jpg',\n",
              " '/content/sample_data/hymenoptera_data/train/ants/1099452230_d1949d3250.jpg',\n",
              " '/content/sample_data/hymenoptera_data/train/ants/998118368_6ac1d91f81.jpg',\n",
              " '/content/sample_data/hymenoptera_data/train/ants/684133190_35b62c0c1d.jpg',\n",
              " '/content/sample_data/hymenoptera_data/train/ants/384191229_5779cf591b.jpg',\n",
              " '/content/sample_data/hymenoptera_data/train/ants/196057951_63bf063b92.jpg',\n",
              " '/content/sample_data/hymenoptera_data/train/ants/6240338_93729615ec.jpg',\n",
              " '/content/sample_data/hymenoptera_data/train/ants/188552436_605cc9b36b.jpg',\n",
              " '/content/sample_data/hymenoptera_data/train/ants/VietnameseAntMimicSpider.jpg',\n",
              " '/content/sample_data/hymenoptera_data/train/ants/0013035.jpg',\n",
              " '/content/sample_data/hymenoptera_data/train/ants/466430434_4000737de9.jpg',\n",
              " '/content/sample_data/hymenoptera_data/train/ants/2265825502_fff99cfd2d.jpg',\n",
              " '/content/sample_data/hymenoptera_data/train/ants/1473187633_63ccaacea6.jpg',\n",
              " '/content/sample_data/hymenoptera_data/train/ants/trap-jaw-ant-insect-bg.jpg',\n",
              " '/content/sample_data/hymenoptera_data/train/ants/167890289_dd5ba923f3.jpg',\n",
              " '/content/sample_data/hymenoptera_data/train/ants/7759525_1363d24e88.jpg',\n",
              " '/content/sample_data/hymenoptera_data/train/ants/MehdiabadiAnt2_600.jpg',\n",
              " '/content/sample_data/hymenoptera_data/train/ants/424119020_6d57481dab.jpg',\n",
              " '/content/sample_data/hymenoptera_data/train/ants/382971067_0bfd33afe0.jpg',\n",
              " '/content/sample_data/hymenoptera_data/train/ants/hormiga_co_por.jpg',\n",
              " '/content/sample_data/hymenoptera_data/train/ants/424873399_47658a91fb.jpg',\n",
              " '/content/sample_data/hymenoptera_data/train/ants/541630764_dbd285d63c.jpg',\n",
              " '/content/sample_data/hymenoptera_data/train/ants/kurokusa.jpg',\n",
              " '/content/sample_data/hymenoptera_data/train/ants/518773929_734dbc5ff4.jpg']"
            ]
          },
          "metadata": {},
          "execution_count": 64
        }
      ]
    },
    {
      "cell_type": "code",
      "source": [
        "len(path_list)"
      ],
      "metadata": {
        "colab": {
          "base_uri": "https://localhost:8080/"
        },
        "id": "m1gTtVs0MKh3",
        "outputId": "60ed9af9-da86-464c-c1dd-d934434bcea5"
      },
      "execution_count": null,
      "outputs": [
        {
          "output_type": "execute_result",
          "data": {
            "text/plain": [
              "243"
            ]
          },
          "metadata": {},
          "execution_count": 65
        }
      ]
    },
    {
      "cell_type": "code",
      "source": [
        "path_list[:10]"
      ],
      "metadata": {
        "colab": {
          "base_uri": "https://localhost:8080/"
        },
        "id": "pnsvuLKpNDJ-",
        "outputId": "540c12f9-9e20-4339-d08e-1675025546e3"
      },
      "execution_count": null,
      "outputs": [
        {
          "output_type": "execute_result",
          "data": {
            "text/plain": [
              "['/content/sample_data/hymenoptera_data/train/bees/2037437624_2d7bce461f.jpg',\n",
              " '/content/sample_data/hymenoptera_data/train/bees/478701318_bbd5e557b8.jpg',\n",
              " '/content/sample_data/hymenoptera_data/train/bees/2477324698_3d4b1b1cab.jpg',\n",
              " '/content/sample_data/hymenoptera_data/train/bees/2495722465_879acf9d85.jpg',\n",
              " '/content/sample_data/hymenoptera_data/train/bees/2601176055_8464e6aa71.jpg',\n",
              " '/content/sample_data/hymenoptera_data/train/bees/95238259_98470c5b10.jpg',\n",
              " '/content/sample_data/hymenoptera_data/train/bees/509247772_2db2d01374.jpg',\n",
              " '/content/sample_data/hymenoptera_data/train/bees/3090975720_71f12e6de4.jpg',\n",
              " '/content/sample_data/hymenoptera_data/train/bees/2861002136_52c7c6f708.jpg',\n",
              " '/content/sample_data/hymenoptera_data/train/bees/3030772428_8578335616.jpg']"
            ]
          },
          "metadata": {},
          "execution_count": 66
        }
      ]
    },
    {
      "cell_type": "code",
      "source": [
        "train_list = make_datapath_list('train')\n",
        "val_list = make_datapath_list('val')\n",
        "train_list"
      ],
      "metadata": {
        "id": "RWPQlICONJJB"
      },
      "execution_count": null,
      "outputs": []
    },
    {
      "cell_type": "code",
      "source": [
        "class MyDataset(data.Dataset):\n",
        "    def __init__(self, file_list, transform=None, phase=\"train\"):\n",
        "        self.file_list = file_list\n",
        "        self.transform = transform\n",
        "        self.phase = phase\n",
        "        \n",
        "    def __len__(self):\n",
        "        return len(self.file_list)\n",
        "\n",
        "    def __getitem__(self, idx):\n",
        "        img_path = self.file_list[idx]\n",
        "        img = Image.open(img_path)\n",
        "        \n",
        "        img_transformed = self.transform(img, self.phase)\n",
        "        \n",
        "        if self.phase == \"train\":\n",
        "            label = img_path[44:48]\n",
        "        elif self.phase == \"val\":\n",
        "            label = img_path[42:46]\n",
        "        \n",
        "        if label == \"ants\":\n",
        "            label = 0\n",
        "        elif label == \"bees\":\n",
        "            label = 1\n",
        "        \n",
        "        return img_transformed, label\n"
      ],
      "metadata": {
        "id": "gh3ZbogKNP0Q"
      },
      "execution_count": null,
      "outputs": []
    },
    {
      "cell_type": "code",
      "source": [
        "train_dataset = MyDataset(train_list, transform = ImageTransform(resize,mean,std), phase ='train')\n",
        "val_dataset = MyDataset(val_list, transform = ImageTransform(resize,mean,std), phase ='val')\n",
        " "
      ],
      "metadata": {
        "id": "-zCnp_zrRLNO"
      },
      "execution_count": null,
      "outputs": []
    },
    {
      "cell_type": "code",
      "source": [
        "index = 0\n",
        "img,label = train_dataset.__getitem__(50)\n"
      ],
      "metadata": {
        "id": "3UYodzRURxFC"
      },
      "execution_count": null,
      "outputs": []
    },
    {
      "cell_type": "code",
      "source": [
        "img.shape\n",
        "print(label)"
      ],
      "metadata": {
        "colab": {
          "base_uri": "https://localhost:8080/"
        },
        "id": "lqWdHrYUSYZb",
        "outputId": "afd2466e-c42c-4852-c60d-be9595a6e51f"
      },
      "execution_count": null,
      "outputs": [
        {
          "output_type": "stream",
          "name": "stdout",
          "text": [
            "1\n"
          ]
        }
      ]
    },
    {
      "cell_type": "code",
      "source": [
        "batch_size = 4\n",
        "train_dataloader = torch.utils.data.DataLoader(train_dataset, batch_size, shuffle = True)\n",
        "val_dataloader = torch.utils.data.DataLoader(val_dataset, batch_size, shuffle = False)\n",
        "\n",
        "dataloader_dict = {\"train\":train_dataloader,'val':val_dataloader}\n"
      ],
      "metadata": {
        "id": "AXQZY-1NZ3du"
      },
      "execution_count": null,
      "outputs": []
    },
    {
      "cell_type": "code",
      "source": [
        "batch_iterator = iter(dataloader_dict['train'])\n",
        "inputs, labels = next(batch_iterator)\n",
        "print(labels)"
      ],
      "metadata": {
        "colab": {
          "base_uri": "https://localhost:8080/"
        },
        "id": "HTNsRXxMadM6",
        "outputId": "f08dbe17-a093-41a0-f945-57bcd58d7d1f"
      },
      "execution_count": null,
      "outputs": [
        {
          "output_type": "stream",
          "name": "stdout",
          "text": [
            "tensor([0, 1, 0, 1])\n"
          ]
        }
      ]
    },
    {
      "cell_type": "code",
      "source": [
        ""
      ],
      "metadata": {
        "id": "_Nvf5vVtcWv5"
      },
      "execution_count": null,
      "outputs": []
    },
    {
      "cell_type": "markdown",
      "source": [
        "# Network\n"
      ],
      "metadata": {
        "id": "0lYE5uImccGP"
      }
    },
    {
      "cell_type": "code",
      "source": [
        "use_pretrained = True\n",
        "net = models.vgg16(pretrained = use_pretrained)"
      ],
      "metadata": {
        "colab": {
          "base_uri": "https://localhost:8080/",
          "height": 88,
          "referenced_widgets": [
            "45894d3ad3f1460da59ad4eee8eacc59",
            "8d5c458834a342be994fccfd62f86e92",
            "8ee24b5412e148829c57e6dea8a0e7ad",
            "30bb5b28038649f1b27900d43feba88e",
            "63912b77398946259a85a9b2c3775c20",
            "2873135a618f47e6ba36e046cdb5fb23",
            "8ab9daf7475940b488caa571aa8ca2e7",
            "25cb847fe5d84bbfb3d69ecd278ad27c",
            "cd148850a3994529801503769ca505c0",
            "428dd8bc48314aedba58861e082e8c08",
            "73dd7b21cbd3401cb923175cb9192021"
          ]
        },
        "id": "iPNsMySLceiD",
        "outputId": "12904f6a-e714-44db-aab9-74d871098061"
      },
      "execution_count": null,
      "outputs": [
        {
          "output_type": "stream",
          "name": "stderr",
          "text": [
            "Downloading: \"https://download.pytorch.org/models/vgg16-397923af.pth\" to /root/.cache/torch/hub/checkpoints/vgg16-397923af.pth\n"
          ]
        },
        {
          "output_type": "display_data",
          "data": {
            "application/vnd.jupyter.widget-view+json": {
              "model_id": "45894d3ad3f1460da59ad4eee8eacc59",
              "version_minor": 0,
              "version_major": 2
            },
            "text/plain": [
              "  0%|          | 0.00/528M [00:00<?, ?B/s]"
            ]
          },
          "metadata": {}
        }
      ]
    },
    {
      "cell_type": "code",
      "source": [
        "net.classifier[6] = nn.Linear(in_features = 4096, out_features=2)"
      ],
      "metadata": {
        "id": "CWLasP1Yc93q"
      },
      "execution_count": null,
      "outputs": []
    },
    {
      "cell_type": "code",
      "source": [
        "print(net)"
      ],
      "metadata": {
        "colab": {
          "base_uri": "https://localhost:8080/"
        },
        "id": "OyZEy88_dMfQ",
        "outputId": "f11f24ba-dac9-4672-9e06-0e636535bba2"
      },
      "execution_count": null,
      "outputs": [
        {
          "output_type": "stream",
          "name": "stdout",
          "text": [
            "VGG(\n",
            "  (features): Sequential(\n",
            "    (0): Conv2d(3, 64, kernel_size=(3, 3), stride=(1, 1), padding=(1, 1))\n",
            "    (1): ReLU(inplace=True)\n",
            "    (2): Conv2d(64, 64, kernel_size=(3, 3), stride=(1, 1), padding=(1, 1))\n",
            "    (3): ReLU(inplace=True)\n",
            "    (4): MaxPool2d(kernel_size=2, stride=2, padding=0, dilation=1, ceil_mode=False)\n",
            "    (5): Conv2d(64, 128, kernel_size=(3, 3), stride=(1, 1), padding=(1, 1))\n",
            "    (6): ReLU(inplace=True)\n",
            "    (7): Conv2d(128, 128, kernel_size=(3, 3), stride=(1, 1), padding=(1, 1))\n",
            "    (8): ReLU(inplace=True)\n",
            "    (9): MaxPool2d(kernel_size=2, stride=2, padding=0, dilation=1, ceil_mode=False)\n",
            "    (10): Conv2d(128, 256, kernel_size=(3, 3), stride=(1, 1), padding=(1, 1))\n",
            "    (11): ReLU(inplace=True)\n",
            "    (12): Conv2d(256, 256, kernel_size=(3, 3), stride=(1, 1), padding=(1, 1))\n",
            "    (13): ReLU(inplace=True)\n",
            "    (14): Conv2d(256, 256, kernel_size=(3, 3), stride=(1, 1), padding=(1, 1))\n",
            "    (15): ReLU(inplace=True)\n",
            "    (16): MaxPool2d(kernel_size=2, stride=2, padding=0, dilation=1, ceil_mode=False)\n",
            "    (17): Conv2d(256, 512, kernel_size=(3, 3), stride=(1, 1), padding=(1, 1))\n",
            "    (18): ReLU(inplace=True)\n",
            "    (19): Conv2d(512, 512, kernel_size=(3, 3), stride=(1, 1), padding=(1, 1))\n",
            "    (20): ReLU(inplace=True)\n",
            "    (21): Conv2d(512, 512, kernel_size=(3, 3), stride=(1, 1), padding=(1, 1))\n",
            "    (22): ReLU(inplace=True)\n",
            "    (23): MaxPool2d(kernel_size=2, stride=2, padding=0, dilation=1, ceil_mode=False)\n",
            "    (24): Conv2d(512, 512, kernel_size=(3, 3), stride=(1, 1), padding=(1, 1))\n",
            "    (25): ReLU(inplace=True)\n",
            "    (26): Conv2d(512, 512, kernel_size=(3, 3), stride=(1, 1), padding=(1, 1))\n",
            "    (27): ReLU(inplace=True)\n",
            "    (28): Conv2d(512, 512, kernel_size=(3, 3), stride=(1, 1), padding=(1, 1))\n",
            "    (29): ReLU(inplace=True)\n",
            "    (30): MaxPool2d(kernel_size=2, stride=2, padding=0, dilation=1, ceil_mode=False)\n",
            "  )\n",
            "  (avgpool): AdaptiveAvgPool2d(output_size=(7, 7))\n",
            "  (classifier): Sequential(\n",
            "    (0): Linear(in_features=25088, out_features=4096, bias=True)\n",
            "    (1): ReLU(inplace=True)\n",
            "    (2): Dropout(p=0.5, inplace=False)\n",
            "    (3): Linear(in_features=4096, out_features=4096, bias=True)\n",
            "    (4): ReLU(inplace=True)\n",
            "    (5): Dropout(p=0.5, inplace=False)\n",
            "    (6): Linear(in_features=4096, out_features=2, bias=True)\n",
            "  )\n",
            ")\n"
          ]
        }
      ]
    },
    {
      "cell_type": "code",
      "source": [
        "net = net.train()"
      ],
      "metadata": {
        "id": "XK7F5PqidSKj"
      },
      "execution_count": null,
      "outputs": []
    },
    {
      "cell_type": "code",
      "source": [
        ""
      ],
      "metadata": {
        "id": "bkg9FZbndcKp"
      },
      "execution_count": null,
      "outputs": []
    },
    {
      "cell_type": "markdown",
      "source": [
        "# Loss"
      ],
      "metadata": {
        "id": "EmohpZsKdiCE"
      }
    },
    {
      "cell_type": "code",
      "source": [
        "criterior = nn.CrossEntropyLoss()"
      ],
      "metadata": {
        "id": "yM6NYNcrdlRd"
      },
      "execution_count": null,
      "outputs": []
    },
    {
      "cell_type": "code",
      "source": [
        ""
      ],
      "metadata": {
        "id": "5-RMgCcydpLM"
      },
      "execution_count": null,
      "outputs": []
    },
    {
      "cell_type": "markdown",
      "source": [
        "**optimizer**"
      ],
      "metadata": {
        "id": "_ssAI4GXdtcZ"
      }
    },
    {
      "cell_type": "code",
      "source": [
        "params_to_update = []\n",
        "update_params_name = ['classifier.6.weight','classifier.6.bias']\n",
        "for name,param in net.named_parameters():\n",
        "  if name in update_params_name:\n",
        "    param.requires_grad = True\n",
        "    params_to_update.append(param)\n",
        "    print(name)\n",
        "  else:\n",
        "    param.requires_grad = False\n",
        "print(params_to_update)"
      ],
      "metadata": {
        "colab": {
          "base_uri": "https://localhost:8080/"
        },
        "id": "97vWRDhmd_Yt",
        "outputId": "d0271427-141e-4c7e-d59c-f2d26370ec14"
      },
      "execution_count": null,
      "outputs": [
        {
          "output_type": "stream",
          "name": "stdout",
          "text": [
            "classifier.6.weight\n",
            "classifier.6.bias\n",
            "[Parameter containing:\n",
            "tensor([[ 0.0123, -0.0149,  0.0108,  ..., -0.0105,  0.0127, -0.0115],\n",
            "        [ 0.0080,  0.0114, -0.0050,  ..., -0.0027, -0.0091,  0.0044]],\n",
            "       requires_grad=True), Parameter containing:\n",
            "tensor([0.0013, 0.0018], requires_grad=True)]\n"
          ]
        }
      ]
    },
    {
      "cell_type": "code",
      "source": [
        "optimizer = optim.SGD(params = net.parameters(), lr= 0.001, momentum=0.9)"
      ],
      "metadata": {
        "id": "ZHsq8ZF-dycP"
      },
      "execution_count": null,
      "outputs": []
    },
    {
      "cell_type": "code",
      "source": [
        "def train_model(net, dataloader_dict, criterior, optimizer, num_epochs):\n",
        "  for epoch in range(num_epochs):\n",
        "    print(\"Epoch {}/{}\".format(epoch,num_epochs))\n",
        "    for phase in ['train','val']:\n",
        "      if phase =='train':\n",
        "        net.train()\n",
        "      else:\n",
        "        net.eval()\n",
        "      epoch_loss = 0.0\n",
        "      epoch_corrects = 0\n",
        "      if (epoch == 0) and (phase =='train'):\n",
        "        continue\n",
        "      for inputs, labels in tqdm(dataloader_dict[phase]):\n",
        "        optimizer.zero_grad()\n",
        "        with torch.set_grad_enabled(phase =='train'):\n",
        "          outputs = net(inputs)\n",
        "          loss = criterior(outputs, labels)\n",
        "          _, preds = torch.max(outputs, 1)\n",
        "          if phase =='train':\n",
        "            loss.backward()\n",
        "            optimizer.step()\n",
        "          epoch_loss += loss.item()*inputs.size(0)\n",
        "          epoch_corrects += torch.sum(preds ==labels.data)\n",
        "      epoch_loss = epoch_loss/ len(dataloader_dict[phase].dataset)\n",
        "      epoch_accuracy = epoch_corrects.double()/ len(dataloader_dict[phase].dataset)\n",
        "      print(\"{} Loss: {:.4f} Acc: {:.4f}\".format(phase, epoch_loss, epoch_accuracy))\n",
        "\n"
      ],
      "metadata": {
        "id": "mEb1H0UQfIfF"
      },
      "execution_count": null,
      "outputs": []
    },
    {
      "cell_type": "code",
      "source": [
        "num_epochs = 2\n",
        "train_model(net, dataloader_dict, criterior,optimizer,num_epochs)"
      ],
      "metadata": {
        "colab": {
          "base_uri": "https://localhost:8080/"
        },
        "id": "eEQIVvB1itGX",
        "outputId": "333cc0d8-f50b-4f57-b6d7-33e428e49a2f"
      },
      "execution_count": null,
      "outputs": [
        {
          "output_type": "stream",
          "name": "stdout",
          "text": [
            "Epoch 0/2\n"
          ]
        },
        {
          "output_type": "stream",
          "name": "stderr",
          "text": [
            "100%|██████████| 39/39 [01:17<00:00,  1.98s/it]\n"
          ]
        },
        {
          "output_type": "stream",
          "name": "stdout",
          "text": [
            "val Loss: 0.8763 Acc: 0.2941\n",
            "Epoch 1/2\n"
          ]
        },
        {
          "output_type": "stream",
          "name": "stderr",
          "text": [
            "100%|██████████| 61/61 [02:01<00:00,  2.00s/it]\n"
          ]
        },
        {
          "output_type": "stream",
          "name": "stdout",
          "text": [
            "train Loss: 0.2397 Acc: 0.8971\n"
          ]
        },
        {
          "output_type": "stream",
          "name": "stderr",
          "text": [
            "100%|██████████| 39/39 [01:17<00:00,  1.97s/it]"
          ]
        },
        {
          "output_type": "stream",
          "name": "stdout",
          "text": [
            "val Loss: 0.0970 Acc: 0.9608\n"
          ]
        },
        {
          "output_type": "stream",
          "name": "stderr",
          "text": [
            "\n"
          ]
        }
      ]
    },
    {
      "cell_type": "code",
      "source": [
        "img_file_path = '/content/sample_data/isolated-bee-11548527658wk638hake3.png'\n",
        "transform = ImageTransform(resize,mean,std)\n",
        "test_image = Image.open(img_file_path).convert('RGB')\n",
        "img_transformed = transform(test_image)\n",
        "img_transformed.shape\n"
      ],
      "metadata": {
        "colab": {
          "base_uri": "https://localhost:8080/"
        },
        "id": "XfNeZ2Vpmze6",
        "outputId": "08c7c450-b287-4a39-c998-1654e3baabb9"
      },
      "execution_count": null,
      "outputs": [
        {
          "output_type": "execute_result",
          "data": {
            "text/plain": [
              "torch.Size([3, 224, 224])"
            ]
          },
          "metadata": {},
          "execution_count": 180
        }
      ]
    },
    {
      "cell_type": "code",
      "source": [
        "#img_transformed = img_transformed.numpy().transpose(1,2,0)\n",
        "img_transformed = np.clip(img_transformed, 0 ,1)\n",
        "img_transformed.shape"
      ],
      "metadata": {
        "colab": {
          "base_uri": "https://localhost:8080/"
        },
        "id": "AckSGFazpIdA",
        "outputId": "23410e2b-5b2e-42b1-ec21-b5e6d61b768c"
      },
      "execution_count": null,
      "outputs": [
        {
          "output_type": "execute_result",
          "data": {
            "text/plain": [
              "torch.Size([3, 224, 224])"
            ]
          },
          "metadata": {},
          "execution_count": 181
        }
      ]
    },
    {
      "cell_type": "code",
      "source": [
        "plt.imshow(img_transformed)\n",
        "plt.show()"
      ],
      "metadata": {
        "colab": {
          "base_uri": "https://localhost:8080/",
          "height": 599
        },
        "id": "o5ZYNq9fpLD3",
        "outputId": "9fccf376-bc45-4785-ac36-036094493ed7"
      },
      "execution_count": null,
      "outputs": [
        {
          "output_type": "error",
          "ename": "TypeError",
          "evalue": "ignored",
          "traceback": [
            "\u001b[0;31m---------------------------------------------------------------------------\u001b[0m",
            "\u001b[0;31mTypeError\u001b[0m                                 Traceback (most recent call last)",
            "\u001b[0;32m<ipython-input-174-fd24b9d7e6cd>\u001b[0m in \u001b[0;36m<module>\u001b[0;34m()\u001b[0m\n\u001b[0;32m----> 1\u001b[0;31m \u001b[0mplt\u001b[0m\u001b[0;34m.\u001b[0m\u001b[0mimshow\u001b[0m\u001b[0;34m(\u001b[0m\u001b[0mimg_transformed\u001b[0m\u001b[0;34m)\u001b[0m\u001b[0;34m\u001b[0m\u001b[0;34m\u001b[0m\u001b[0m\n\u001b[0m\u001b[1;32m      2\u001b[0m \u001b[0mplt\u001b[0m\u001b[0;34m.\u001b[0m\u001b[0mshow\u001b[0m\u001b[0;34m(\u001b[0m\u001b[0;34m)\u001b[0m\u001b[0;34m\u001b[0m\u001b[0;34m\u001b[0m\u001b[0m\n",
            "\u001b[0;32m/usr/local/lib/python3.7/dist-packages/matplotlib/pyplot.py\u001b[0m in \u001b[0;36mimshow\u001b[0;34m(X, cmap, norm, aspect, interpolation, alpha, vmin, vmax, origin, extent, shape, filternorm, filterrad, imlim, resample, url, data, **kwargs)\u001b[0m\n\u001b[1;32m   2649\u001b[0m         \u001b[0mfilternorm\u001b[0m\u001b[0;34m=\u001b[0m\u001b[0mfilternorm\u001b[0m\u001b[0;34m,\u001b[0m \u001b[0mfilterrad\u001b[0m\u001b[0;34m=\u001b[0m\u001b[0mfilterrad\u001b[0m\u001b[0;34m,\u001b[0m \u001b[0mimlim\u001b[0m\u001b[0;34m=\u001b[0m\u001b[0mimlim\u001b[0m\u001b[0;34m,\u001b[0m\u001b[0;34m\u001b[0m\u001b[0;34m\u001b[0m\u001b[0m\n\u001b[1;32m   2650\u001b[0m         resample=resample, url=url, **({\"data\": data} if data is not\n\u001b[0;32m-> 2651\u001b[0;31m         None else {}), **kwargs)\n\u001b[0m\u001b[1;32m   2652\u001b[0m     \u001b[0msci\u001b[0m\u001b[0;34m(\u001b[0m\u001b[0m__ret\u001b[0m\u001b[0;34m)\u001b[0m\u001b[0;34m\u001b[0m\u001b[0;34m\u001b[0m\u001b[0m\n\u001b[1;32m   2653\u001b[0m     \u001b[0;32mreturn\u001b[0m \u001b[0m__ret\u001b[0m\u001b[0;34m\u001b[0m\u001b[0;34m\u001b[0m\u001b[0m\n",
            "\u001b[0;32m/usr/local/lib/python3.7/dist-packages/matplotlib/__init__.py\u001b[0m in \u001b[0;36minner\u001b[0;34m(ax, data, *args, **kwargs)\u001b[0m\n\u001b[1;32m   1563\u001b[0m     \u001b[0;32mdef\u001b[0m \u001b[0minner\u001b[0m\u001b[0;34m(\u001b[0m\u001b[0max\u001b[0m\u001b[0;34m,\u001b[0m \u001b[0;34m*\u001b[0m\u001b[0margs\u001b[0m\u001b[0;34m,\u001b[0m \u001b[0mdata\u001b[0m\u001b[0;34m=\u001b[0m\u001b[0;32mNone\u001b[0m\u001b[0;34m,\u001b[0m \u001b[0;34m**\u001b[0m\u001b[0mkwargs\u001b[0m\u001b[0;34m)\u001b[0m\u001b[0;34m:\u001b[0m\u001b[0;34m\u001b[0m\u001b[0;34m\u001b[0m\u001b[0m\n\u001b[1;32m   1564\u001b[0m         \u001b[0;32mif\u001b[0m \u001b[0mdata\u001b[0m \u001b[0;32mis\u001b[0m \u001b[0;32mNone\u001b[0m\u001b[0;34m:\u001b[0m\u001b[0;34m\u001b[0m\u001b[0;34m\u001b[0m\u001b[0m\n\u001b[0;32m-> 1565\u001b[0;31m             \u001b[0;32mreturn\u001b[0m \u001b[0mfunc\u001b[0m\u001b[0;34m(\u001b[0m\u001b[0max\u001b[0m\u001b[0;34m,\u001b[0m \u001b[0;34m*\u001b[0m\u001b[0mmap\u001b[0m\u001b[0;34m(\u001b[0m\u001b[0msanitize_sequence\u001b[0m\u001b[0;34m,\u001b[0m \u001b[0margs\u001b[0m\u001b[0;34m)\u001b[0m\u001b[0;34m,\u001b[0m \u001b[0;34m**\u001b[0m\u001b[0mkwargs\u001b[0m\u001b[0;34m)\u001b[0m\u001b[0;34m\u001b[0m\u001b[0;34m\u001b[0m\u001b[0m\n\u001b[0m\u001b[1;32m   1566\u001b[0m \u001b[0;34m\u001b[0m\u001b[0m\n\u001b[1;32m   1567\u001b[0m         \u001b[0mbound\u001b[0m \u001b[0;34m=\u001b[0m \u001b[0mnew_sig\u001b[0m\u001b[0;34m.\u001b[0m\u001b[0mbind\u001b[0m\u001b[0;34m(\u001b[0m\u001b[0max\u001b[0m\u001b[0;34m,\u001b[0m \u001b[0;34m*\u001b[0m\u001b[0margs\u001b[0m\u001b[0;34m,\u001b[0m \u001b[0;34m**\u001b[0m\u001b[0mkwargs\u001b[0m\u001b[0;34m)\u001b[0m\u001b[0;34m\u001b[0m\u001b[0;34m\u001b[0m\u001b[0m\n",
            "\u001b[0;32m/usr/local/lib/python3.7/dist-packages/matplotlib/cbook/deprecation.py\u001b[0m in \u001b[0;36mwrapper\u001b[0;34m(*args, **kwargs)\u001b[0m\n\u001b[1;32m    356\u001b[0m                 \u001b[0;34mf\"%(removal)s.  If any parameter follows {name!r}, they \"\u001b[0m\u001b[0;34m\u001b[0m\u001b[0;34m\u001b[0m\u001b[0m\n\u001b[1;32m    357\u001b[0m                 f\"should be pass as keyword, not positionally.\")\n\u001b[0;32m--> 358\u001b[0;31m         \u001b[0;32mreturn\u001b[0m \u001b[0mfunc\u001b[0m\u001b[0;34m(\u001b[0m\u001b[0;34m*\u001b[0m\u001b[0margs\u001b[0m\u001b[0;34m,\u001b[0m \u001b[0;34m**\u001b[0m\u001b[0mkwargs\u001b[0m\u001b[0;34m)\u001b[0m\u001b[0;34m\u001b[0m\u001b[0;34m\u001b[0m\u001b[0m\n\u001b[0m\u001b[1;32m    359\u001b[0m \u001b[0;34m\u001b[0m\u001b[0m\n\u001b[1;32m    360\u001b[0m     \u001b[0;32mreturn\u001b[0m \u001b[0mwrapper\u001b[0m\u001b[0;34m\u001b[0m\u001b[0;34m\u001b[0m\u001b[0m\n",
            "\u001b[0;32m/usr/local/lib/python3.7/dist-packages/matplotlib/cbook/deprecation.py\u001b[0m in \u001b[0;36mwrapper\u001b[0;34m(*args, **kwargs)\u001b[0m\n\u001b[1;32m    356\u001b[0m                 \u001b[0;34mf\"%(removal)s.  If any parameter follows {name!r}, they \"\u001b[0m\u001b[0;34m\u001b[0m\u001b[0;34m\u001b[0m\u001b[0m\n\u001b[1;32m    357\u001b[0m                 f\"should be pass as keyword, not positionally.\")\n\u001b[0;32m--> 358\u001b[0;31m         \u001b[0;32mreturn\u001b[0m \u001b[0mfunc\u001b[0m\u001b[0;34m(\u001b[0m\u001b[0;34m*\u001b[0m\u001b[0margs\u001b[0m\u001b[0;34m,\u001b[0m \u001b[0;34m**\u001b[0m\u001b[0mkwargs\u001b[0m\u001b[0;34m)\u001b[0m\u001b[0;34m\u001b[0m\u001b[0;34m\u001b[0m\u001b[0m\n\u001b[0m\u001b[1;32m    359\u001b[0m \u001b[0;34m\u001b[0m\u001b[0m\n\u001b[1;32m    360\u001b[0m     \u001b[0;32mreturn\u001b[0m \u001b[0mwrapper\u001b[0m\u001b[0;34m\u001b[0m\u001b[0;34m\u001b[0m\u001b[0m\n",
            "\u001b[0;32m/usr/local/lib/python3.7/dist-packages/matplotlib/axes/_axes.py\u001b[0m in \u001b[0;36mimshow\u001b[0;34m(self, X, cmap, norm, aspect, interpolation, alpha, vmin, vmax, origin, extent, shape, filternorm, filterrad, imlim, resample, url, **kwargs)\u001b[0m\n\u001b[1;32m   5624\u001b[0m                               resample=resample, **kwargs)\n\u001b[1;32m   5625\u001b[0m \u001b[0;34m\u001b[0m\u001b[0m\n\u001b[0;32m-> 5626\u001b[0;31m         \u001b[0mim\u001b[0m\u001b[0;34m.\u001b[0m\u001b[0mset_data\u001b[0m\u001b[0;34m(\u001b[0m\u001b[0mX\u001b[0m\u001b[0;34m)\u001b[0m\u001b[0;34m\u001b[0m\u001b[0;34m\u001b[0m\u001b[0m\n\u001b[0m\u001b[1;32m   5627\u001b[0m         \u001b[0mim\u001b[0m\u001b[0;34m.\u001b[0m\u001b[0mset_alpha\u001b[0m\u001b[0;34m(\u001b[0m\u001b[0malpha\u001b[0m\u001b[0;34m)\u001b[0m\u001b[0;34m\u001b[0m\u001b[0;34m\u001b[0m\u001b[0m\n\u001b[1;32m   5628\u001b[0m         \u001b[0;32mif\u001b[0m \u001b[0mim\u001b[0m\u001b[0;34m.\u001b[0m\u001b[0mget_clip_path\u001b[0m\u001b[0;34m(\u001b[0m\u001b[0;34m)\u001b[0m \u001b[0;32mis\u001b[0m \u001b[0;32mNone\u001b[0m\u001b[0;34m:\u001b[0m\u001b[0;34m\u001b[0m\u001b[0;34m\u001b[0m\u001b[0m\n",
            "\u001b[0;32m/usr/local/lib/python3.7/dist-packages/matplotlib/image.py\u001b[0m in \u001b[0;36mset_data\u001b[0;34m(self, A)\u001b[0m\n\u001b[1;32m    697\u001b[0m                 or self._A.ndim == 3 and self._A.shape[-1] in [3, 4]):\n\u001b[1;32m    698\u001b[0m             raise TypeError(\"Invalid shape {} for image data\"\n\u001b[0;32m--> 699\u001b[0;31m                             .format(self._A.shape))\n\u001b[0m\u001b[1;32m    700\u001b[0m \u001b[0;34m\u001b[0m\u001b[0m\n\u001b[1;32m    701\u001b[0m         \u001b[0;32mif\u001b[0m \u001b[0mself\u001b[0m\u001b[0;34m.\u001b[0m\u001b[0m_A\u001b[0m\u001b[0;34m.\u001b[0m\u001b[0mndim\u001b[0m \u001b[0;34m==\u001b[0m \u001b[0;36m3\u001b[0m\u001b[0;34m:\u001b[0m\u001b[0;34m\u001b[0m\u001b[0;34m\u001b[0m\u001b[0m\n",
            "\u001b[0;31mTypeError\u001b[0m: Invalid shape (3, 224, 224) for image data"
          ]
        },
        {
          "output_type": "display_data",
          "data": {
            "image/png": "[encoded data removed]",
            "text/plain": [
              "<Figure size 432x288 with 1 Axes>"
            ]
          },
          "metadata": {
            "needs_background": "light"
          }
        }
      ]
    },
    {
      "cell_type": "code",
      "source": [
        "img_transformed = img_transformed.unsqueeze_(1)\n",
        "img_transformed.shape"
      ],
      "metadata": {
        "colab": {
          "base_uri": "https://localhost:8080/"
        },
        "id": "jdIuyrklpiw1",
        "outputId": "58fc75c0-9517-4e7d-a047-10cc9a331901"
      },
      "execution_count": null,
      "outputs": [
        {
          "output_type": "execute_result",
          "data": {
            "text/plain": [
              "torch.Size([3, 1, 224, 224])"
            ]
          },
          "metadata": {},
          "execution_count": 182
        }
      ]
    },
    {
      "cell_type": "code",
      "source": [
        "out = net(img_transformed)\n",
        "result = predictor.predict_max(out)\n",
        "print(result)"
      ],
      "metadata": {
        "colab": {
          "base_uri": "https://localhost:8080/",
          "height": 403
        },
        "id": "FOajFYNbp7r_",
        "outputId": "a7d4a048-59c2-4204-bf16-0691c7ec7ff1"
      },
      "execution_count": null,
      "outputs": [
        {
          "output_type": "error",
          "ename": "RuntimeError",
          "evalue": "ignored",
          "traceback": [
            "\u001b[0;31m---------------------------------------------------------------------------\u001b[0m",
            "\u001b[0;31mRuntimeError\u001b[0m                              Traceback (most recent call last)",
            "\u001b[0;32m<ipython-input-183-c7a74d75fe1b>\u001b[0m in \u001b[0;36m<module>\u001b[0;34m()\u001b[0m\n\u001b[0;32m----> 1\u001b[0;31m \u001b[0mout\u001b[0m \u001b[0;34m=\u001b[0m \u001b[0mnet\u001b[0m\u001b[0;34m(\u001b[0m\u001b[0mimg_transformed\u001b[0m\u001b[0;34m)\u001b[0m\u001b[0;34m\u001b[0m\u001b[0;34m\u001b[0m\u001b[0m\n\u001b[0m\u001b[1;32m      2\u001b[0m \u001b[0mresult\u001b[0m \u001b[0;34m=\u001b[0m \u001b[0mpredictor\u001b[0m\u001b[0;34m.\u001b[0m\u001b[0mpredict_max\u001b[0m\u001b[0;34m(\u001b[0m\u001b[0mout\u001b[0m\u001b[0;34m)\u001b[0m\u001b[0;34m\u001b[0m\u001b[0;34m\u001b[0m\u001b[0m\n\u001b[1;32m      3\u001b[0m \u001b[0mprint\u001b[0m\u001b[0;34m(\u001b[0m\u001b[0mresult\u001b[0m\u001b[0;34m)\u001b[0m\u001b[0;34m\u001b[0m\u001b[0;34m\u001b[0m\u001b[0m\n",
            "\u001b[0;32m/usr/local/lib/python3.7/dist-packages/torch/nn/modules/module.py\u001b[0m in \u001b[0;36m_call_impl\u001b[0;34m(self, *input, **kwargs)\u001b[0m\n\u001b[1;32m   1100\u001b[0m         if not (self._backward_hooks or self._forward_hooks or self._forward_pre_hooks or _global_backward_hooks\n\u001b[1;32m   1101\u001b[0m                 or _global_forward_hooks or _global_forward_pre_hooks):\n\u001b[0;32m-> 1102\u001b[0;31m             \u001b[0;32mreturn\u001b[0m \u001b[0mforward_call\u001b[0m\u001b[0;34m(\u001b[0m\u001b[0;34m*\u001b[0m\u001b[0minput\u001b[0m\u001b[0;34m,\u001b[0m \u001b[0;34m**\u001b[0m\u001b[0mkwargs\u001b[0m\u001b[0;34m)\u001b[0m\u001b[0;34m\u001b[0m\u001b[0;34m\u001b[0m\u001b[0m\n\u001b[0m\u001b[1;32m   1103\u001b[0m         \u001b[0;31m# Do not call functions when jit is used\u001b[0m\u001b[0;34m\u001b[0m\u001b[0;34m\u001b[0m\u001b[0;34m\u001b[0m\u001b[0m\n\u001b[1;32m   1104\u001b[0m         \u001b[0mfull_backward_hooks\u001b[0m\u001b[0;34m,\u001b[0m \u001b[0mnon_full_backward_hooks\u001b[0m \u001b[0;34m=\u001b[0m \u001b[0;34m[\u001b[0m\u001b[0;34m]\u001b[0m\u001b[0;34m,\u001b[0m \u001b[0;34m[\u001b[0m\u001b[0;34m]\u001b[0m\u001b[0;34m\u001b[0m\u001b[0;34m\u001b[0m\u001b[0m\n",
            "\u001b[0;32m/usr/local/lib/python3.7/dist-packages/torchvision/models/vgg.py\u001b[0m in \u001b[0;36mforward\u001b[0;34m(self, x)\u001b[0m\n\u001b[1;32m     47\u001b[0m \u001b[0;34m\u001b[0m\u001b[0m\n\u001b[1;32m     48\u001b[0m     \u001b[0;32mdef\u001b[0m \u001b[0mforward\u001b[0m\u001b[0;34m(\u001b[0m\u001b[0mself\u001b[0m\u001b[0;34m,\u001b[0m \u001b[0mx\u001b[0m\u001b[0;34m:\u001b[0m \u001b[0mtorch\u001b[0m\u001b[0;34m.\u001b[0m\u001b[0mTensor\u001b[0m\u001b[0;34m)\u001b[0m \u001b[0;34m->\u001b[0m \u001b[0mtorch\u001b[0m\u001b[0;34m.\u001b[0m\u001b[0mTensor\u001b[0m\u001b[0;34m:\u001b[0m\u001b[0;34m\u001b[0m\u001b[0;34m\u001b[0m\u001b[0m\n\u001b[0;32m---> 49\u001b[0;31m         \u001b[0mx\u001b[0m \u001b[0;34m=\u001b[0m \u001b[0mself\u001b[0m\u001b[0;34m.\u001b[0m\u001b[0mfeatures\u001b[0m\u001b[0;34m(\u001b[0m\u001b[0mx\u001b[0m\u001b[0;34m)\u001b[0m\u001b[0;34m\u001b[0m\u001b[0;34m\u001b[0m\u001b[0m\n\u001b[0m\u001b[1;32m     50\u001b[0m         \u001b[0mx\u001b[0m \u001b[0;34m=\u001b[0m \u001b[0mself\u001b[0m\u001b[0;34m.\u001b[0m\u001b[0mavgpool\u001b[0m\u001b[0;34m(\u001b[0m\u001b[0mx\u001b[0m\u001b[0;34m)\u001b[0m\u001b[0;34m\u001b[0m\u001b[0;34m\u001b[0m\u001b[0m\n\u001b[1;32m     51\u001b[0m         \u001b[0mx\u001b[0m \u001b[0;34m=\u001b[0m \u001b[0mtorch\u001b[0m\u001b[0;34m.\u001b[0m\u001b[0mflatten\u001b[0m\u001b[0;34m(\u001b[0m\u001b[0mx\u001b[0m\u001b[0;34m,\u001b[0m \u001b[0;36m1\u001b[0m\u001b[0;34m)\u001b[0m\u001b[0;34m\u001b[0m\u001b[0;34m\u001b[0m\u001b[0m\n",
            "\u001b[0;32m/usr/local/lib/python3.7/dist-packages/torch/nn/modules/module.py\u001b[0m in \u001b[0;36m_call_impl\u001b[0;34m(self, *input, **kwargs)\u001b[0m\n\u001b[1;32m   1100\u001b[0m         if not (self._backward_hooks or self._forward_hooks or self._forward_pre_hooks or _global_backward_hooks\n\u001b[1;32m   1101\u001b[0m                 or _global_forward_hooks or _global_forward_pre_hooks):\n\u001b[0;32m-> 1102\u001b[0;31m             \u001b[0;32mreturn\u001b[0m \u001b[0mforward_call\u001b[0m\u001b[0;34m(\u001b[0m\u001b[0;34m*\u001b[0m\u001b[0minput\u001b[0m\u001b[0;34m,\u001b[0m \u001b[0;34m**\u001b[0m\u001b[0mkwargs\u001b[0m\u001b[0;34m)\u001b[0m\u001b[0;34m\u001b[0m\u001b[0;34m\u001b[0m\u001b[0m\n\u001b[0m\u001b[1;32m   1103\u001b[0m         \u001b[0;31m# Do not call functions when jit is used\u001b[0m\u001b[0;34m\u001b[0m\u001b[0;34m\u001b[0m\u001b[0;34m\u001b[0m\u001b[0m\n\u001b[1;32m   1104\u001b[0m         \u001b[0mfull_backward_hooks\u001b[0m\u001b[0;34m,\u001b[0m \u001b[0mnon_full_backward_hooks\u001b[0m \u001b[0;34m=\u001b[0m \u001b[0;34m[\u001b[0m\u001b[0;34m]\u001b[0m\u001b[0;34m,\u001b[0m \u001b[0;34m[\u001b[0m\u001b[0;34m]\u001b[0m\u001b[0;34m\u001b[0m\u001b[0;34m\u001b[0m\u001b[0m\n",
            "\u001b[0;32m/usr/local/lib/python3.7/dist-packages/torch/nn/modules/container.py\u001b[0m in \u001b[0;36mforward\u001b[0;34m(self, input)\u001b[0m\n\u001b[1;32m    139\u001b[0m     \u001b[0;32mdef\u001b[0m \u001b[0mforward\u001b[0m\u001b[0;34m(\u001b[0m\u001b[0mself\u001b[0m\u001b[0;34m,\u001b[0m \u001b[0minput\u001b[0m\u001b[0;34m)\u001b[0m\u001b[0;34m:\u001b[0m\u001b[0;34m\u001b[0m\u001b[0;34m\u001b[0m\u001b[0m\n\u001b[1;32m    140\u001b[0m         \u001b[0;32mfor\u001b[0m \u001b[0mmodule\u001b[0m \u001b[0;32min\u001b[0m \u001b[0mself\u001b[0m\u001b[0;34m:\u001b[0m\u001b[0;34m\u001b[0m\u001b[0;34m\u001b[0m\u001b[0m\n\u001b[0;32m--> 141\u001b[0;31m             \u001b[0minput\u001b[0m \u001b[0;34m=\u001b[0m \u001b[0mmodule\u001b[0m\u001b[0;34m(\u001b[0m\u001b[0minput\u001b[0m\u001b[0;34m)\u001b[0m\u001b[0;34m\u001b[0m\u001b[0;34m\u001b[0m\u001b[0m\n\u001b[0m\u001b[1;32m    142\u001b[0m         \u001b[0;32mreturn\u001b[0m \u001b[0minput\u001b[0m\u001b[0;34m\u001b[0m\u001b[0;34m\u001b[0m\u001b[0m\n\u001b[1;32m    143\u001b[0m \u001b[0;34m\u001b[0m\u001b[0m\n",
            "\u001b[0;32m/usr/local/lib/python3.7/dist-packages/torch/nn/modules/module.py\u001b[0m in \u001b[0;36m_call_impl\u001b[0;34m(self, *input, **kwargs)\u001b[0m\n\u001b[1;32m   1100\u001b[0m         if not (self._backward_hooks or self._forward_hooks or self._forward_pre_hooks or _global_backward_hooks\n\u001b[1;32m   1101\u001b[0m                 or _global_forward_hooks or _global_forward_pre_hooks):\n\u001b[0;32m-> 1102\u001b[0;31m             \u001b[0;32mreturn\u001b[0m \u001b[0mforward_call\u001b[0m\u001b[0;34m(\u001b[0m\u001b[0;34m*\u001b[0m\u001b[0minput\u001b[0m\u001b[0;34m,\u001b[0m \u001b[0;34m**\u001b[0m\u001b[0mkwargs\u001b[0m\u001b[0;34m)\u001b[0m\u001b[0;34m\u001b[0m\u001b[0;34m\u001b[0m\u001b[0m\n\u001b[0m\u001b[1;32m   1103\u001b[0m         \u001b[0;31m# Do not call functions when jit is used\u001b[0m\u001b[0;34m\u001b[0m\u001b[0;34m\u001b[0m\u001b[0;34m\u001b[0m\u001b[0m\n\u001b[1;32m   1104\u001b[0m         \u001b[0mfull_backward_hooks\u001b[0m\u001b[0;34m,\u001b[0m \u001b[0mnon_full_backward_hooks\u001b[0m \u001b[0;34m=\u001b[0m \u001b[0;34m[\u001b[0m\u001b[0;34m]\u001b[0m\u001b[0;34m,\u001b[0m \u001b[0;34m[\u001b[0m\u001b[0;34m]\u001b[0m\u001b[0;34m\u001b[0m\u001b[0;34m\u001b[0m\u001b[0m\n",
            "\u001b[0;32m/usr/local/lib/python3.7/dist-packages/torch/nn/modules/conv.py\u001b[0m in \u001b[0;36mforward\u001b[0;34m(self, input)\u001b[0m\n\u001b[1;32m    444\u001b[0m \u001b[0;34m\u001b[0m\u001b[0m\n\u001b[1;32m    445\u001b[0m     \u001b[0;32mdef\u001b[0m \u001b[0mforward\u001b[0m\u001b[0;34m(\u001b[0m\u001b[0mself\u001b[0m\u001b[0;34m,\u001b[0m \u001b[0minput\u001b[0m\u001b[0;34m:\u001b[0m \u001b[0mTensor\u001b[0m\u001b[0;34m)\u001b[0m \u001b[0;34m->\u001b[0m \u001b[0mTensor\u001b[0m\u001b[0;34m:\u001b[0m\u001b[0;34m\u001b[0m\u001b[0;34m\u001b[0m\u001b[0m\n\u001b[0;32m--> 446\u001b[0;31m         \u001b[0;32mreturn\u001b[0m \u001b[0mself\u001b[0m\u001b[0;34m.\u001b[0m\u001b[0m_conv_forward\u001b[0m\u001b[0;34m(\u001b[0m\u001b[0minput\u001b[0m\u001b[0;34m,\u001b[0m \u001b[0mself\u001b[0m\u001b[0;34m.\u001b[0m\u001b[0mweight\u001b[0m\u001b[0;34m,\u001b[0m \u001b[0mself\u001b[0m\u001b[0;34m.\u001b[0m\u001b[0mbias\u001b[0m\u001b[0;34m)\u001b[0m\u001b[0;34m\u001b[0m\u001b[0;34m\u001b[0m\u001b[0m\n\u001b[0m\u001b[1;32m    447\u001b[0m \u001b[0;34m\u001b[0m\u001b[0m\n\u001b[1;32m    448\u001b[0m \u001b[0;32mclass\u001b[0m \u001b[0mConv3d\u001b[0m\u001b[0;34m(\u001b[0m\u001b[0m_ConvNd\u001b[0m\u001b[0;34m)\u001b[0m\u001b[0;34m:\u001b[0m\u001b[0;34m\u001b[0m\u001b[0;34m\u001b[0m\u001b[0m\n",
            "\u001b[0;32m/usr/local/lib/python3.7/dist-packages/torch/nn/modules/conv.py\u001b[0m in \u001b[0;36m_conv_forward\u001b[0;34m(self, input, weight, bias)\u001b[0m\n\u001b[1;32m    441\u001b[0m                             _pair(0), self.dilation, self.groups)\n\u001b[1;32m    442\u001b[0m         return F.conv2d(input, weight, bias, self.stride,\n\u001b[0;32m--> 443\u001b[0;31m                         self.padding, self.dilation, self.groups)\n\u001b[0m\u001b[1;32m    444\u001b[0m \u001b[0;34m\u001b[0m\u001b[0m\n\u001b[1;32m    445\u001b[0m     \u001b[0;32mdef\u001b[0m \u001b[0mforward\u001b[0m\u001b[0;34m(\u001b[0m\u001b[0mself\u001b[0m\u001b[0;34m,\u001b[0m \u001b[0minput\u001b[0m\u001b[0;34m:\u001b[0m \u001b[0mTensor\u001b[0m\u001b[0;34m)\u001b[0m \u001b[0;34m->\u001b[0m \u001b[0mTensor\u001b[0m\u001b[0;34m:\u001b[0m\u001b[0;34m\u001b[0m\u001b[0;34m\u001b[0m\u001b[0m\n",
            "\u001b[0;31mRuntimeError\u001b[0m: Given groups=1, weight of size [64, 3, 3, 3], expected input[3, 1, 224, 224] to have 3 channels, but got 1 channels instead"
          ]
        }
      ]
    }
  ]
}