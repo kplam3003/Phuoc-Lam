{
  "nbformat": 4,
  "nbformat_minor": 0,
  "metadata": {
    "colab": {
      "name": "Untitled2.ipynb",
      "provenance": [],
      "authorship_tag": "ABX9TyPXkX1iNp6FP1neIlF6mwHR",
      "include_colab_link": true
    },
    "kernelspec": {
      "name": "python3",
      "display_name": "Python 3"
    },
    "language_info": {
      "name": "python"
    }
  },
  "cells": [
    {
      "cell_type": "markdown",
      "metadata": {
        "id": "view-in-github",
        "colab_type": "text"
      },
      "source": [
        "<a href=\"https://colab.research.google.com/github/kplam3003/Phuoc-Lam/blob/main/Sequential.ipynb\" target=\"_parent\"><img src=\"https://colab.research.google.com/assets/colab-badge.svg\" alt=\"Open In Colab\"/></a>"
      ]
    },
    {
      "cell_type": "code",
      "execution_count": 1,
      "metadata": {
        "id": "zcWXYBsIihby"
      },
      "outputs": [],
      "source": [
        "import torch\n",
        "import torch.nn as nn\n"
      ]
    },
    {
      "cell_type": "code",
      "source": [
        "net = nn.Sequential()"
      ],
      "metadata": {
        "id": "m72crq2_imZJ"
      },
      "execution_count": 2,
      "outputs": []
    },
    {
      "cell_type": "code",
      "source": [
        "class Flatten(nn.Module):\n",
        "  def forward(self,x):\n",
        "    size = x.size()[1:]\n",
        "    num_features = 1\n",
        "    for s in size:\n",
        "      num_features *= s\n",
        "    return x.view(-1, num_features)"
      ],
      "metadata": {
        "id": "2U5GYYW1jfzh"
      },
      "execution_count": 3,
      "outputs": []
    },
    {
      "cell_type": "code",
      "source": [
        "net.add_module(\"Conv1\", nn.Conv2d(1,6,3))\n",
        "net.add_module('Relu', nn.ReLU())\n",
        "net.add_module('Maxpooling1', nn.MaxPool2d(2))\n",
        "net.add_module(\"Conv2\", nn.Conv2d(1,6,3))\n",
        "net.add_module('Relu2', nn.ReLU())\n",
        "net.add_module('Maxpooling2', nn.MaxPool2d(2))\n",
        "net.add_module(\"Flatten\",Flatten())\n",
        "net.add_module('Fc1', nn.Linear(16*6*6, 120))\n",
        "net.add_module('Fc2', nn.Linear(120,84))\n",
        "net.add_module('Fc3', nn.Linear(84,10))"
      ],
      "metadata": {
        "id": "Ovfv3sEYiqBc"
      },
      "execution_count": 6,
      "outputs": []
    },
    {
      "cell_type": "code",
      "source": [
        "print(net)"
      ],
      "metadata": {
        "colab": {
          "base_uri": "https://localhost:8080/"
        },
        "id": "M-5zl-2JmGEM",
        "outputId": "6fb7dc5f-de77-4aad-bb45-96ef98cb9e6e"
      },
      "execution_count": 7,
      "outputs": [
        {
          "output_type": "stream",
          "name": "stdout",
          "text": [
            "Sequential(\n",
            "  (Conv1): Conv2d(1, 6, kernel_size=(3, 3), stride=(1, 1))\n",
            "  (Relu): ReLU()\n",
            "  (Maxpooling1): MaxPool2d(kernel_size=2, stride=2, padding=0, dilation=1, ceil_mode=False)\n",
            "  (Conv2): Conv2d(1, 6, kernel_size=(3, 3), stride=(1, 1))\n",
            "  (Relu2): ReLU()\n",
            "  (Maxpooling2): MaxPool2d(kernel_size=2, stride=2, padding=0, dilation=1, ceil_mode=False)\n",
            "  (Flatten): Flatten()\n",
            "  (Fc1): Linear(in_features=576, out_features=120, bias=True)\n",
            "  (Fc2): Linear(in_features=120, out_features=84, bias=True)\n",
            "  (Fc3): Linear(in_features=84, out_features=10, bias=True)\n",
            ")\n"
          ]
        }
      ]
    }
  ]
}